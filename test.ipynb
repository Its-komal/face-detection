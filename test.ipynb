{
 "cells": [
  {
   "cell_type": "code",
   "execution_count": 5,
   "source": [
    "import os\r\n",
    "import requests\r\n",
    "from oauth2client.service_account import ServiceAccountCredentials\r\n",
    "import gspread\r\n",
    "import pandas as pd\r\n",
    "import cv2"
   ],
   "outputs": [],
   "metadata": {}
  },
  {
   "cell_type": "code",
   "execution_count": 6,
   "source": [
    "os.remove(\"faces/\"+\"face_0.jpg\")\r\n"
   ],
   "outputs": [
    {
     "output_type": "error",
     "ename": "FileNotFoundError",
     "evalue": "[WinError 2] The system cannot find the file specified: 'faces/face_0.jpg'",
     "traceback": [
      "\u001b[1;31m---------------------------------------------------------------------------\u001b[0m",
      "\u001b[1;31mFileNotFoundError\u001b[0m                         Traceback (most recent call last)",
      "\u001b[1;32m<ipython-input-6-2144f92cda26>\u001b[0m in \u001b[0;36m<module>\u001b[1;34m\u001b[0m\n\u001b[1;32m----> 1\u001b[1;33m \u001b[0mos\u001b[0m\u001b[1;33m.\u001b[0m\u001b[0mremove\u001b[0m\u001b[1;33m(\u001b[0m\u001b[1;34m\"faces/\"\u001b[0m\u001b[1;33m+\u001b[0m\u001b[1;34m\"face_0.jpg\"\u001b[0m\u001b[1;33m)\u001b[0m\u001b[1;33m\u001b[0m\u001b[1;33m\u001b[0m\u001b[0m\n\u001b[0m",
      "\u001b[1;31mFileNotFoundError\u001b[0m: [WinError 2] The system cannot find the file specified: 'faces/face_0.jpg'"
     ]
    }
   ],
   "metadata": {}
  },
  {
   "cell_type": "code",
   "execution_count": 2,
   "source": [
    "VIDEOS_LIST = os.listdir(\"Videos\")"
   ],
   "outputs": [],
   "metadata": {}
  },
  {
   "cell_type": "code",
   "execution_count": 12,
   "source": [
    "name_exists = False\r\n",
    "name = \"Andrey\"\r\n",
    "for vid_path in VIDEOS_LIST:\r\n",
    "    if(name in vid_path):\r\n",
    "        name_exists = True\r\n",
    "        break\r\n",
    "    name_exists = False\r\n",
    "\r\n",
    "if(name_exists == False):\r\n",
    "    call_webhook(name, number)\r\n",
    "    qWait(30*1000)\r\n"
   ],
   "outputs": [],
   "metadata": {}
  },
  {
   "cell_type": "code",
   "execution_count": null,
   "source": [
    "\r\n",
    "def create_df_video_webhook(self, name, phone):\r\n",
    "    otp = randint(1000, 9999)\r\n",
    "    print(otp)\r\n",
    "    webhook_url_creating_video = \"https://hooks.zapier.com/hooks/catch/754911/b6u4urm?name={}&mobile=919717659983\".format(name)\r\n",
    "    # url = f\"https://hooks.zapier.com/hooks/catch/754911/b6u2uww?name={name}&mobile={phone}&otp={otp}&premises=1\"\r\n",
    "    r = requests.post(webhook_url_creating_video)\r\n",
    "\r\n",
    "    webhook_url_google_sheets = \"https://hooks.zapier.com/hooks/catch/754911/b61db2t?mobile={}\".format(phnumber)\r\n",
    "    r = requests.post(webhook_url_google_sheets)\r\n",
    "\r\n",
    "\r\n",
    "    scopes = ['https://spreadsheets.google.com/feeds',\r\n",
    "            'https://www.googleapis.com/auth/drive']\r\n",
    "    creds = ServiceAccountCredentials.from_json_keyfile_name(\r\n",
    "        'visitor_video_download.json', scopes)\r\n",
    "    client = gspread.authorize(creds)\r\n",
    "    sheet = client.open(\"Visitorlogtobeused\")  # open sheet\r\n",
    "    sheet_instance = sheet.get_worksheet(1)\r\n",
    "    records_data = sheet_instance.get_all_records()\r\n",
    "    df = pd.DataFrame.from_dict(records_data)\r\n",
    "    for i in range(df.shape[0]):\r\n",
    "        if df[\"Title\"][i] == name:\r\n",
    "            url_vid = df[\"Download URL\"][i]\r\n",
    "            r = requests.get(url_vid, allow_redirects=True)\r\n",
    "            open('DownloadedVideo.mp4', 'wb').write(r.content)\r\n",
    "\r\n",
    "    # if r.status_code == 200:\r\n",
    "    #      print(r.content)\r\n",
    "    #       inp_otp, ok = QInputDialog.getText(\r\n",
    "    #            self, 'Hello', 'Please, Enter confirmation code')\r\n",
    "    #        if ok and otp == inp_otp:\r\n",
    "    #             print('Confirmation succesfull')\r\n",
    "    #         else:\r\n",
    "    #             self.play_till_end(\"Videos/sorry.mp4\")\r\n",
    "    #             inp_otp, ok = QInputDialog.getText(\r\n",
    "    #                 self, 'Hello', 'Please, Enter confirmation code')\r\n",
    "    #             if ok and otp == inp_otp:\r\n",
    "    #                 print('Confirmation succesfull')\r\n",
    "    #             else:\r\n",
    "    #                 self.play_till_end(\"Videos/sorry.mp4\")\r\n",
    "    #                 self.try_start_loop()\r\n",
    "    #             self.try_start_loop()\r\n"
   ],
   "outputs": [],
   "metadata": {}
  },
  {
   "cell_type": "code",
   "execution_count": 7,
   "source": [
    "scopes = ['https://spreadsheets.google.com/feeds',\r\n",
    "        'https://www.googleapis.com/auth/drive']\r\n",
    "creds = ServiceAccountCredentials.from_json_keyfile_name(\r\n",
    "'visitor_video_download.json', scopes)\r\n",
    "client = gspread.authorize(creds)\r\n",
    "sheet = client.open(\"Visitorlogtobeused\")  # open sheet\r\n",
    "sheet_instance = sheet.get_worksheet(1)\r\n",
    "records_data = sheet_instance.get_all_records()\r\n",
    "df = pd.DataFrame.from_dict(records_data)\r\n",
    "for i in range(df.shape[0]):\r\n",
    "    if df[\"Title\"][i] == fname:\r\n",
    "        url_vid = df[\"Download URL\"][i]\r\n",
    "\r\n",
    "r = requests.get(url_vid, allow_redirects=True)\r\n",
    "open('DownloadedVideo.mp4', 'wb').write(r.content)\r\n"
   ],
   "outputs": [
    {
     "output_type": "error",
     "ename": "NameError",
     "evalue": "name 'fname' is not defined",
     "traceback": [
      "\u001b[1;31m---------------------------------------------------------------------------\u001b[0m",
      "\u001b[1;31mNameError\u001b[0m                                 Traceback (most recent call last)",
      "\u001b[1;32m<ipython-input-7-6256ac0cc9da>\u001b[0m in \u001b[0;36m<module>\u001b[1;34m\u001b[0m\n\u001b[0;32m      9\u001b[0m \u001b[0mdf\u001b[0m \u001b[1;33m=\u001b[0m \u001b[0mpd\u001b[0m\u001b[1;33m.\u001b[0m\u001b[0mDataFrame\u001b[0m\u001b[1;33m.\u001b[0m\u001b[0mfrom_dict\u001b[0m\u001b[1;33m(\u001b[0m\u001b[0mrecords_data\u001b[0m\u001b[1;33m)\u001b[0m\u001b[1;33m\u001b[0m\u001b[1;33m\u001b[0m\u001b[0m\n\u001b[0;32m     10\u001b[0m \u001b[1;32mfor\u001b[0m \u001b[0mi\u001b[0m \u001b[1;32min\u001b[0m \u001b[0mrange\u001b[0m\u001b[1;33m(\u001b[0m\u001b[0mdf\u001b[0m\u001b[1;33m.\u001b[0m\u001b[0mshape\u001b[0m\u001b[1;33m[\u001b[0m\u001b[1;36m0\u001b[0m\u001b[1;33m]\u001b[0m\u001b[1;33m)\u001b[0m\u001b[1;33m:\u001b[0m\u001b[1;33m\u001b[0m\u001b[1;33m\u001b[0m\u001b[0m\n\u001b[1;32m---> 11\u001b[1;33m     \u001b[1;32mif\u001b[0m \u001b[0mdf\u001b[0m\u001b[1;33m[\u001b[0m\u001b[1;34m\"Title\"\u001b[0m\u001b[1;33m]\u001b[0m\u001b[1;33m[\u001b[0m\u001b[0mi\u001b[0m\u001b[1;33m]\u001b[0m \u001b[1;33m==\u001b[0m \u001b[0mfname\u001b[0m\u001b[1;33m:\u001b[0m\u001b[1;33m\u001b[0m\u001b[1;33m\u001b[0m\u001b[0m\n\u001b[0m\u001b[0;32m     12\u001b[0m         \u001b[0murl_vid\u001b[0m \u001b[1;33m=\u001b[0m \u001b[0mdf\u001b[0m\u001b[1;33m[\u001b[0m\u001b[1;34m\"Download URL\"\u001b[0m\u001b[1;33m]\u001b[0m\u001b[1;33m[\u001b[0m\u001b[0mi\u001b[0m\u001b[1;33m]\u001b[0m\u001b[1;33m\u001b[0m\u001b[1;33m\u001b[0m\u001b[0m\n\u001b[0;32m     13\u001b[0m \u001b[1;33m\u001b[0m\u001b[0m\n",
      "\u001b[1;31mNameError\u001b[0m: name 'fname' is not defined"
     ]
    }
   ],
   "metadata": {}
  },
  {
   "cell_type": "code",
   "execution_count": 11,
   "source": [
    "df"
   ],
   "outputs": [
    {
     "output_type": "execute_result",
     "data": {
      "text/html": [
       "<div>\n",
       "<style scoped>\n",
       "    .dataframe tbody tr th:only-of-type {\n",
       "        vertical-align: middle;\n",
       "    }\n",
       "\n",
       "    .dataframe tbody tr th {\n",
       "        vertical-align: top;\n",
       "    }\n",
       "\n",
       "    .dataframe thead th {\n",
       "        text-align: right;\n",
       "    }\n",
       "</style>\n",
       "<table border=\"1\" class=\"dataframe\">\n",
       "  <thead>\n",
       "    <tr style=\"text-align: right;\">\n",
       "      <th></th>\n",
       "      <th>Date</th>\n",
       "      <th>VideoID</th>\n",
       "      <th>Title</th>\n",
       "      <th>Description</th>\n",
       "      <th>Callback ID</th>\n",
       "      <th>Download URL</th>\n",
       "      <th>Thumbnail</th>\n",
       "      <th>Full Name</th>\n",
       "      <th>Face ID</th>\n",
       "    </tr>\n",
       "  </thead>\n",
       "  <tbody>\n",
       "    <tr>\n",
       "      <th>0</th>\n",
       "      <td></td>\n",
       "      <td>Welcome siddharth</td>\n",
       "      <td></td>\n",
       "      <td></td>\n",
       "      <td></td>\n",
       "      <td>https://synthesia-ttv-data.s3-eu-west-1.amazon...</td>\n",
       "      <td></td>\n",
       "      <td></td>\n",
       "      <td></td>\n",
       "    </tr>\n",
       "    <tr>\n",
       "      <th>1</th>\n",
       "      <td></td>\n",
       "      <td>Welcome siddharth</td>\n",
       "      <td></td>\n",
       "      <td></td>\n",
       "      <td></td>\n",
       "      <td>https://synthesia-ttv-data.s3-eu-west-1.amazon...</td>\n",
       "      <td></td>\n",
       "      <td></td>\n",
       "      <td></td>\n",
       "    </tr>\n",
       "    <tr>\n",
       "      <th>2</th>\n",
       "      <td></td>\n",
       "      <td>Welcome siddharth</td>\n",
       "      <td></td>\n",
       "      <td></td>\n",
       "      <td></td>\n",
       "      <td>https://synthesia-ttv-data.s3-eu-west-1.amazon...</td>\n",
       "      <td></td>\n",
       "      <td></td>\n",
       "      <td></td>\n",
       "    </tr>\n",
       "  </tbody>\n",
       "</table>\n",
       "</div>"
      ],
      "text/plain": [
       "  Date            VideoID Title Description Callback ID  \\\n",
       "0       Welcome siddharth                                 \n",
       "1       Welcome siddharth                                 \n",
       "2       Welcome siddharth                                 \n",
       "\n",
       "                                        Download URL Thumbnail Full Name  \\\n",
       "0  https://synthesia-ttv-data.s3-eu-west-1.amazon...                       \n",
       "1  https://synthesia-ttv-data.s3-eu-west-1.amazon...                       \n",
       "2  https://synthesia-ttv-data.s3-eu-west-1.amazon...                       \n",
       "\n",
       "  Face ID  \n",
       "0          \n",
       "1          \n",
       "2          "
      ]
     },
     "metadata": {},
     "execution_count": 11
    }
   ],
   "metadata": {}
  },
  {
   "cell_type": "code",
   "execution_count": 9,
   "source": [
    "dict(df)"
   ],
   "outputs": [
    {
     "output_type": "execute_result",
     "data": {
      "text/plain": [
       "{'Date': 0    \n",
       " 1    \n",
       " 2    \n",
       " Name: Date, dtype: object,\n",
       " 'VideoID': 0    Welcome siddharth\n",
       " 1    Welcome siddharth\n",
       " 2    Welcome siddharth\n",
       " Name: VideoID, dtype: object,\n",
       " 'Title': 0    \n",
       " 1    \n",
       " 2    \n",
       " Name: Title, dtype: object,\n",
       " 'Description': 0    \n",
       " 1    \n",
       " 2    \n",
       " Name: Description, dtype: object,\n",
       " 'Callback ID': 0    \n",
       " 1    \n",
       " 2    \n",
       " Name: Callback ID, dtype: object,\n",
       " 'Download URL': 0    https://synthesia-ttv-data.s3-eu-west-1.amazon...\n",
       " 1    https://synthesia-ttv-data.s3-eu-west-1.amazon...\n",
       " 2    https://synthesia-ttv-data.s3-eu-west-1.amazon...\n",
       " Name: Download URL, dtype: object,\n",
       " 'Thumbnail': 0    \n",
       " 1    \n",
       " 2    \n",
       " Name: Thumbnail, dtype: object,\n",
       " 'Full Name': 0    \n",
       " 1    \n",
       " 2    \n",
       " Name: Full Name, dtype: object,\n",
       " 'Face ID': 0    \n",
       " 1    \n",
       " 2    \n",
       " Name: Face ID, dtype: object}"
      ]
     },
     "metadata": {},
     "execution_count": 9
    }
   ],
   "metadata": {}
  },
  {
   "cell_type": "code",
   "execution_count": 10,
   "source": [
    "df.columns"
   ],
   "outputs": [
    {
     "output_type": "execute_result",
     "data": {
      "text/plain": [
       "Index(['Date', 'VideoID', 'Title', 'Description', 'Callback ID',\n",
       "       'Download URL', 'Thumbnail', 'Full Name', 'Face ID'],\n",
       "      dtype='object')"
      ]
     },
     "metadata": {},
     "execution_count": 10
    }
   ],
   "metadata": {}
  },
  {
   "cell_type": "code",
   "execution_count": null,
   "source": [
    "{'Date': , 'VideoID', 'Title', 'Description', 'Callback ID',\r\n",
    "'Download URL', 'Thumbnail', 'Full Name', 'Face ID'}\r\n"
   ],
   "outputs": [],
   "metadata": {}
  },
  {
   "cell_type": "code",
   "execution_count": 28,
   "source": [
    "url_vid = df[\"Download URL\"][0]"
   ],
   "outputs": [],
   "metadata": {}
  },
  {
   "cell_type": "code",
   "execution_count": 29,
   "source": [
    "r = requests.get(url_vid, allow_redirects=True)\r\n",
    "open('DownloadedVideo.mp4', 'wb').write(r.content)\r\n"
   ],
   "outputs": [
    {
     "output_type": "execute_result",
     "data": {
      "text/plain": [
       "1508222"
      ]
     },
     "metadata": {},
     "execution_count": 29
    }
   ],
   "metadata": {}
  },
  {
   "cell_type": "code",
   "execution_count": 10,
   "source": [
    "webhook_url = \"https://hooks.zapier.com/hooks/catch/754911/b6u2uww?name={}&mobile={}&otp={}&premises=1\".format(name, phnumber, num)\r\n"
   ],
   "outputs": [
    {
     "output_type": "execute_result",
     "data": {
      "text/plain": [
       "True"
      ]
     },
     "metadata": {},
     "execution_count": 10
    }
   ],
   "metadata": {}
  },
  {
   "cell_type": "code",
   "execution_count": 11,
   "source": [
    "\"verifycode\" in vid_path\r\n"
   ],
   "outputs": [
    {
     "output_type": "execute_result",
     "data": {
      "text/plain": [
       "False"
      ]
     },
     "metadata": {},
     "execution_count": 11
    }
   ],
   "metadata": {}
  },
  {
   "cell_type": "code",
   "execution_count": 13,
   "source": [
    "name_exists"
   ],
   "outputs": [
    {
     "output_type": "execute_result",
     "data": {
      "text/plain": [
       "True"
      ]
     },
     "metadata": {},
     "execution_count": 13
    }
   ],
   "metadata": {}
  },
  {
   "cell_type": "code",
   "execution_count": 31,
   "source": [
    "webhook_url_creating_video = \"https://hooks.zapier.com/hooks/catch/754911/b6u4urm?name={}&mobile=919717659983\".format(name)\r\n",
    "# url = f\"https://hooks.zapier.com/hooks/catch/754911/b6u2uww?name={name}&mobile={phone}&otp={otp}&premises=1\"\r\n",
    "r = requests.post(webhook_url_creating_video)\r\n",
    "\r\n",
    "# webhook_url_google_sheets = \"https://hooks.zapier.com/hooks/catch/754911/b61db2t?mobile={}\".format(\r\n",
    "#     phnumber)\r\n",
    "# r = requests.post(webhook_url_google_sheets)\r\n"
   ],
   "outputs": [],
   "metadata": {}
  },
  {
   "cell_type": "code",
   "execution_count": 32,
   "source": [
    "r"
   ],
   "outputs": [
    {
     "output_type": "execute_result",
     "data": {
      "text/plain": [
       "<Response [200]>"
      ]
     },
     "metadata": {},
     "execution_count": 32
    }
   ],
   "metadata": {}
  },
  {
   "cell_type": "code",
   "execution_count": 35,
   "source": [
    "webhook_url_google_sheets = \"https://hooks.zapier.com/hooks/catch/754911/b61db2t?mobile={}\".format(\r\n",
    "    1868563135)\r\n",
    "r = requests.post(webhook_url_google_sheets)\r\n"
   ],
   "outputs": [],
   "metadata": {}
  },
  {
   "cell_type": "code",
   "execution_count": 38,
   "source": [
    "scopes = ['https://spreadsheets.google.com/feeds',\r\n",
    "          'https://www.googleapis.com/auth/drive']\r\n",
    "creds = ServiceAccountCredentials.from_json_keyfile_name(\r\n",
    "    'visitor_video_download.json', scopes)\r\n",
    "client = gspread.authorize(creds)\r\n",
    "sheet = client.open(\"Visitorlogtobeused\")  # open sheet\r\n",
    "sheet_instance = sheet.get_worksheet(1)\r\n",
    "records_data = sheet_instance.get_all_records()\r\n",
    "df = pd.DataFrame.from_dict(records_data)\r\n",
    "for i in range(df.shape[0]):\r\n",
    "    if df[\"Title\"][i] == name:\r\n",
    "        url_vid = df[\"Download URL\"][i]\r\n",
    "\r\n",
    "r = requests.get(url_vid, allow_redirects=True)\r\n",
    "open('DownloadedVideo.mp4', 'wb').write(r.content)\r\n"
   ],
   "outputs": [
    {
     "output_type": "execute_result",
     "data": {
      "text/plain": [
       "1508222"
      ]
     },
     "metadata": {},
     "execution_count": 38
    }
   ],
   "metadata": {}
  },
  {
   "cell_type": "code",
   "execution_count": 41,
   "source": [
    "df.shape"
   ],
   "outputs": [
    {
     "output_type": "execute_result",
     "data": {
      "text/plain": [
       "(3, 9)"
      ]
     },
     "metadata": {},
     "execution_count": 41
    }
   ],
   "metadata": {}
  },
  {
   "cell_type": "code",
   "execution_count": null,
   "source": [
    "sheet_instance = sheet.get_worksheet(1)\r\n",
    "records_data = sheet_instance.get_all_records()\r\n",
    "df = pd.DataFrame.from_dict(records_data)\r\n"
   ],
   "outputs": [],
   "metadata": {}
  },
  {
   "cell_type": "code",
   "execution_count": 45,
   "source": [
    "df.columns\r\n"
   ],
   "outputs": [
    {
     "output_type": "execute_result",
     "data": {
      "text/plain": [
       "Index(['Date', 'VideoID', 'Title', 'Description', 'Callback ID',\n",
       "       'Download URL', 'Thumbnail', 'Full Name', 'Face ID'],\n",
       "      dtype='object')"
      ]
     },
     "metadata": {},
     "execution_count": 45
    }
   ],
   "metadata": {}
  },
  {
   "cell_type": "code",
   "execution_count": 47,
   "source": [
    "df[\"Title\"]\r\n"
   ],
   "outputs": [
    {
     "output_type": "execute_result",
     "data": {
      "text/plain": [
       "0    \n",
       "1    \n",
       "2    \n",
       "Name: Title, dtype: object"
      ]
     },
     "metadata": {},
     "execution_count": 47
    }
   ],
   "metadata": {}
  },
  {
   "cell_type": "code",
   "execution_count": 3,
   "source": [
    "1730 == int(\"1730\")\r\n"
   ],
   "outputs": [
    {
     "output_type": "execute_result",
     "data": {
      "text/plain": [
       "True"
      ]
     },
     "metadata": {},
     "execution_count": 3
    }
   ],
   "metadata": {}
  },
  {
   "cell_type": "code",
   "execution_count": 4,
   "source": [
    "df"
   ],
   "outputs": [
    {
     "output_type": "error",
     "ename": "NameError",
     "evalue": "name 'df' is not defined",
     "traceback": [
      "\u001b[1;31m---------------------------------------------------------------------------\u001b[0m",
      "\u001b[1;31mNameError\u001b[0m                                 Traceback (most recent call last)",
      "\u001b[1;32m<ipython-input-4-00cf07b74dcd>\u001b[0m in \u001b[0;36m<module>\u001b[1;34m\u001b[0m\n\u001b[1;32m----> 1\u001b[1;33m \u001b[0mdf\u001b[0m\u001b[1;33m\u001b[0m\u001b[1;33m\u001b[0m\u001b[0m\n\u001b[0m",
      "\u001b[1;31mNameError\u001b[0m: name 'df' is not defined"
     ]
    }
   ],
   "metadata": {}
  },
  {
   "cell_type": "code",
   "execution_count": 30,
   "source": [
    "file1 = open(\"premises.txt\", \"w\")\r\n"
   ],
   "outputs": [],
   "metadata": {}
  },
  {
   "cell_type": "code",
   "execution_count": 31,
   "source": [
    "file1.write(\"12dsfds3\")\r\n"
   ],
   "outputs": [
    {
     "output_type": "execute_result",
     "data": {
      "text/plain": [
       "8"
      ]
     },
     "metadata": {},
     "execution_count": 31
    }
   ],
   "metadata": {}
  },
  {
   "cell_type": "code",
   "execution_count": 32,
   "source": [
    "file1.close()"
   ],
   "outputs": [],
   "metadata": {}
  },
  {
   "cell_type": "code",
   "execution_count": 33,
   "source": [
    "file1 = open(\"premises.txt\", \"r\")\r\n"
   ],
   "outputs": [],
   "metadata": {}
  },
  {
   "cell_type": "code",
   "execution_count": 34,
   "source": [
    "file1.readline()\r\n"
   ],
   "outputs": [
    {
     "output_type": "execute_result",
     "data": {
      "text/plain": [
       "'12dsfds3'"
      ]
     },
     "metadata": {},
     "execution_count": 34
    }
   ],
   "metadata": {}
  },
  {
   "cell_type": "code",
   "execution_count": 35,
   "source": [
    "file1.close()"
   ],
   "outputs": [],
   "metadata": {}
  },
  {
   "cell_type": "code",
   "execution_count": null,
   "source": [],
   "outputs": [],
   "metadata": {}
  }
 ],
 "metadata": {
  "orig_nbformat": 4,
  "language_info": {
   "name": "python",
   "version": "3.8.10",
   "mimetype": "text/x-python",
   "codemirror_mode": {
    "name": "ipython",
    "version": 3
   },
   "pygments_lexer": "ipython3",
   "nbconvert_exporter": "python",
   "file_extension": ".py"
  },
  "kernelspec": {
   "name": "python3",
   "display_name": "Python 3.8.10 64-bit ('gen_env': venv)"
  },
  "interpreter": {
   "hash": "595c18cf751027804b027d4cbcec5e943eee6a1c46f41878fd43f1e052b29dd1"
  }
 },
 "nbformat": 4,
 "nbformat_minor": 2
}